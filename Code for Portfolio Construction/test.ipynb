{
 "cells": [
  {
   "cell_type": "code",
   "execution_count": 1,
   "metadata": {
    "collapsed": true
   },
   "outputs": [],
   "source": [
    "ETF_tickers = ['VTI', 'SCHB', 'VEA', 'IXUS', 'IEMG', 'DVY', 'SCHD', 'VGSH',\n",
    "                   'IEF', 'MUB', 'TFI', 'PZA', 'SCHP', 'DJP', 'VDE']"
   ]
  },
  {
   "cell_type": "code",
   "execution_count": 2,
   "metadata": {
    "collapsed": true
   },
   "outputs": [],
   "source": [
    "from Portfolio import *\n",
    "from Black_Litterman import *"
   ]
  },
  {
   "cell_type": "code",
   "execution_count": 3,
   "metadata": {
    "collapsed": true
   },
   "outputs": [],
   "source": [
    "initial_data = Data(ETF_tickers, start_date=\"2013-01-01\", end_date=\"2016-01-04\")"
   ]
  },
  {
   "cell_type": "code",
   "execution_count": 5,
   "metadata": {
    "collapsed": true
   },
   "outputs": [],
   "source": [
    "P_matrix = np.diag(np.ones(len(ETF_tickers)))\n",
    "    Q_ARIMA = np.matrix([-0.004413366667244781, -0.004424015834531522, -0.005690773822704929, -0.005734796756841397, -0.005472827242047887, -0.0052321808471597914, -0.004364895249574041, -0.007686644049192283, -0.007867415841404813, -0.007274183151079553, -0.007435270639293345, -0.0074720911273814155, -0.007135610440594298, -0.007085256344163254, -0.009426469934431069]).transpose()\n",
    "    Q_affiliate = np.matrix([0.000449417,0.000449417,0.00342539500,0.00342539500,0.004385759898,0.000309345023,0.000309345023,0.000167661891,-0.000442237962,0.002160696, 0.0021606969, 0.0021606969, 0.0006686066, 0.0011797109, 0.0011797109]).transpose()"
   ]
  },
  {
   "cell_type": "code",
   "execution_count": 6,
   "metadata": {
    "collapsed": true
   },
   "outputs": [],
   "source": [
    "initial_blacklitterman = BlackLitterman(initial_data, P_matrix, Q_affiliate, 0.8).add_views(P_matrix, Q_ARIMA, 0.2)"
   ]
  },
  {
   "cell_type": "code",
   "execution_count": 35,
   "metadata": {
    "collapsed": false
   },
   "outputs": [
    {
     "name": "stdout",
     "output_type": "stream",
     "text": [
      "2013-01-02 00:00:00\n"
     ]
    }
   ],
   "source": [
    "initial_data.price.loc[\"2013-01-02\"]\n",
    "print(initial_data.price.loc[\"2013-01-02\"].name)"
   ]
  },
  {
   "cell_type": "code",
   "execution_count": 25,
   "metadata": {
    "collapsed": false
   },
   "outputs": [
    {
     "name": "stdout",
     "output_type": "stream",
     "text": [
      "2016-03-28 00:04:56.117948\n"
     ]
    }
   ],
   "source": [
    "datelist = pd.date_range(end = pd.datetime.today(), periods=2,freq=\"365D\").tolist()\n",
    "print(datelist[0])"
   ]
  },
  {
   "cell_type": "code",
   "execution_count": null,
   "metadata": {
    "collapsed": true
   },
   "outputs": [],
   "source": [
    ""
   ]
  },
  {
   "cell_type": "code",
   "execution_count": null,
   "metadata": {
    "collapsed": true
   },
   "outputs": [],
   "source": [
    ""
   ]
  },
  {
   "cell_type": "code",
   "execution_count": 36,
   "metadata": {
    "collapsed": true
   },
   "outputs": [],
   "source": [
    ">>> from statsmodels.tsa.arima_process import arma_generate_sample\n",
    ">>> import statsmodels.api as sm\n",
    ">>> import numpy as np"
   ]
  },
  {
   "cell_type": "code",
   "execution_count": 37,
   "metadata": {
    "collapsed": false
   },
   "outputs": [
    {
     "data": {
      "text/plain": [
       "(1, 2)"
      ]
     },
     "execution_count": 37,
     "metadata": {},
     "output_type": "execute_result"
    }
   ],
   "source": [
    ">>> arparams = np.array([.75, -.25])\n",
    ">>> maparams = np.array([.65, .35])\n",
    ">>> arparams = np.r_[1, -arparams]\n",
    ">>> maparam = np.r_[1, maparams]\n",
    ">>> nobs = 250\n",
    ">>> np.random.seed(2014)\n",
    ">>> y = arma_generate_sample(arparams, maparams, nobs)\n",
    ">>> res = sm.tsa.arma_order_select_ic(y, ic=['aic', 'bic'], trend='nc')\n",
    ">>> res.aic_min_order\n",
    ">>> res.bic_min_order"
   ]
  },
  {
   "cell_type": "raw",
   "metadata": {},
   "source": [
    "res"
   ]
  },
  {
   "cell_type": "code",
   "execution_count": 38,
   "metadata": {
    "collapsed": false
   },
   "outputs": [
    {
     "data": {
      "text/plain": [
       "{'aic':             0           1           2\n",
       " 0         NaN  552.734225  484.296878\n",
       " 1  562.109243  485.519797  480.328585\n",
       " 2  507.045813  482.910658  481.919260\n",
       " 3  484.039960  482.148680  483.863790\n",
       " 4  481.884948  483.837738  485.837566,\n",
       " 'aic_min_order': (1, 2),\n",
       " 'bic':             0           1           2\n",
       " 0         NaN  559.777147  494.861261\n",
       " 1  569.152164  496.084180  494.414429\n",
       " 2  517.610196  496.996502  499.526565\n",
       " 3  498.125803  499.755985  504.992555\n",
       " 4  499.492252  504.966503  510.487793,\n",
       " 'bic_min_order': (1, 2)}"
      ]
     },
     "execution_count": 38,
     "metadata": {},
     "output_type": "execute_result"
    }
   ],
   "source": [
    "res"
   ]
  }
 ],
 "metadata": {
  "kernelspec": {
   "display_name": "Python 3",
   "language": "python",
   "name": "python3"
  },
  "language_info": {
   "codemirror_mode": {
    "name": "ipython",
    "version": 3.0
   },
   "file_extension": ".py",
   "mimetype": "text/x-python",
   "name": "python",
   "nbconvert_exporter": "python",
   "pygments_lexer": "ipython3",
   "version": "3.6.0"
  }
 },
 "nbformat": 4,
 "nbformat_minor": 0
}